{
 "cells": [
  {
   "cell_type": "code",
   "execution_count": 69,
   "id": "7d970b89",
   "metadata": {},
   "outputs": [
    {
     "data": {
      "application/vnd.jupyter.widget-view+json": {
       "model_id": "a04fd5a7156f4ef7a1e70cc872ffaf71",
       "version_major": 2,
       "version_minor": 0
      },
      "text/plain": [
       "interactive(children=(FloatSlider(value=0.63, description='magnitude', max=5.0, min=-5.0, step=0.01), FloatSli…"
      ]
     },
     "metadata": {},
     "output_type": "display_data"
    }
   ],
   "source": [
    "%matplotlib inline\n",
    "from ipywidgets import interactive, IntSlider, FloatSlider\n",
    "import matplotlib.pyplot as plt\n",
    "from matplotlib import rcParams\n",
    "from julia import get_julia_set\n",
    "import numpy as np\n",
    "\n",
    "def plot_julia_euler(magnitude, phase, r, size, max_iterations):\n",
    "    julia_set = get_julia_set(size, size, magnitude*np.exp(1j * phase), r, max_iterations)\n",
    "    rcParams['figure.figsize'] = (5, 5)\n",
    "    plt.rc('axes', titlesize=20)\n",
    "    plt.axis('off') \n",
    "    plt.imshow(julia_set, cmap='hot', interpolation='hamming')\n",
    "    plt.show()\n",
    "\n",
    "interactive(plot_julia_euler, \n",
    "    magnitude=FloatSlider(value=0.63, min=-5.0, max=5.0, step=0.01, description=\"magnitude\"), \n",
    "    phase=FloatSlider(value=0.91, min=-2*np.pi, max=2*np.pi, step=0.01, description=\"phase\"), \n",
    "    r=FloatSlider(value=2., min=1., max=10., step=0.01, description=\"R\"), \n",
    "    size=IntSlider(value=200, min=100, max=1000, description=\"resolution\"), \n",
    "    max_iterations=IntSlider(value=15, min=1, max=30, description=\"color detail\"))"
   ]
  }
 ],
 "metadata": {
  "kernelspec": {
   "display_name": "Python 3 (ipykernel)",
   "language": "python",
   "name": "python3"
  },
  "language_info": {
   "codemirror_mode": {
    "name": "ipython",
    "version": 3
   },
   "file_extension": ".py",
   "mimetype": "text/x-python",
   "name": "python",
   "nbconvert_exporter": "python",
   "pygments_lexer": "ipython3",
   "version": "3.9.9"
  }
 },
 "nbformat": 4,
 "nbformat_minor": 5
}
